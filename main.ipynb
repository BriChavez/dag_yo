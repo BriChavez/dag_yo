{
 "cells": [
  {
   "cell_type": "code",
   "execution_count": 2,
   "metadata": {},
   "outputs": [
    {
     "ename": "ImportError",
     "evalue": "cannot import name 'DAG' from 'airflow' (unknown location)",
     "output_type": "error",
     "traceback": [
      "\u001b[0;31m---------------------------------------------------------------------------\u001b[0m",
      "\u001b[0;31mImportError\u001b[0m                               Traceback (most recent call last)",
      "\u001b[1;32m/home/fossa/deb/tests/dag_yo/main.ipynb Cell 1'\u001b[0m in \u001b[0;36m<cell line: 2>\u001b[0;34m()\u001b[0m\n\u001b[1;32m      <a href='vscode-notebook-cell:/home/fossa/deb/tests/dag_yo/main.ipynb#ch0000000?line=0'>1</a>\u001b[0m \u001b[39mfrom\u001b[39;00m \u001b[39mdatetime\u001b[39;00m \u001b[39mimport\u001b[39;00m timedelta, datetime\n\u001b[0;32m----> <a href='vscode-notebook-cell:/home/fossa/deb/tests/dag_yo/main.ipynb#ch0000000?line=1'>2</a>\u001b[0m \u001b[39mfrom\u001b[39;00m \u001b[39mairflow\u001b[39;00m \u001b[39mimport\u001b[39;00m DAG\n\u001b[1;32m      <a href='vscode-notebook-cell:/home/fossa/deb/tests/dag_yo/main.ipynb#ch0000000?line=2'>3</a>\u001b[0m \u001b[39mfrom\u001b[39;00m \u001b[39mairflow\u001b[39;00m\u001b[39m.\u001b[39;00m\u001b[39moperators\u001b[39;00m\u001b[39m.\u001b[39;00m\u001b[39mdummy_operator\u001b[39;00m \u001b[39mimport\u001b[39;00m DummyOperator\n\u001b[1;32m      <a href='vscode-notebook-cell:/home/fossa/deb/tests/dag_yo/main.ipynb#ch0000000?line=3'>4</a>\u001b[0m \u001b[39mfrom\u001b[39;00m \u001b[39mairflow\u001b[39;00m\u001b[39m.\u001b[39;00m\u001b[39moperators\u001b[39;00m\u001b[39m.\u001b[39;00m\u001b[39mbash_operator\u001b[39;00m \u001b[39mimport\u001b[39;00m BashOperator\n",
      "\u001b[0;31mImportError\u001b[0m: cannot import name 'DAG' from 'airflow' (unknown location)"
     ]
    }
   ],
   "source": [
    "\n",
    "from datetime import timedelta, datetime\n",
    "from airflow import DAG\n",
    "from airflow.operators.dummy_operator import DummyOperator\n",
    "from airflow.operators.bash_operator import BashOperator\n",
    "from airflow.operators.python_operator import PythonOperator\n",
    "from airflow.utils.dates import days_ago\n"
   ]
  },
  {
   "cell_type": "code",
   "execution_count": null,
   "metadata": {},
   "outputs": [],
   "source": [
    "\n",
    "\n",
    "\n",
    "APPLES = [\"pink lady\", \"jazz\", \"orange pippin\", \"granny smith\",\n",
    "          \"red delicious\", \"gala\", \"honeycrisp\", \"mcintosh\", \"fuji\"]\n",
    "\n",
    "\n",
    "def say_my_name():\n",
    "    \"\"\"a simple function to yell my name into the abyss and have it saved it to a file\"\"\"\n",
    "\n",
    "\n",
    "default_args = {\n",
    "    'owner': 'airflow',\n",
    "    'start_date': days_ago(2),\n",
    "    'schedule_interval': timedelta(days=1),\n",
    "    'retries': 1,\n",
    "    'retry_delay': timedelta(minutes=5)\n",
    "}\n",
    "\n",
    "dag = DAG('code_review', default_args=default_args,\n",
    "          schedule_interval=timedelta(days=1))\n",
    "\n",
    "\n",
    "\"\"\"dag instantiation\"\"\"\n",
    "with DAG(\n",
    "    # name dis dag\n",
    "    '',\n",
    "    description='A simple DAG to give me my echo back',\n",
    "    # passing the arg as the defaults args\n",
    "    default_args=default_args,\n",
    ") as dag:\n",
    "\n",
    "\n",
    "\n",
    "    \"\"\"just cause he dumb, dont mean he cant still help us out by telling us if this works or not\"\"\"\n",
    "    dummy_task = DummyOperator(\n",
    "        # give him a job title so he feels important\n",
    "        task_id = \"super_smart_guy\"\n",
    "    )\n",
    "\n",
    "\n",
    "t1 = BashOperator(\n",
    "    task_id = 'say_my_name',\n",
    "    bash_command = 'echo \"hi im bri\" > /opt/airflow/dags',\n",
    "    dag=dag)\n",
    "\n",
    "t2 = PythonOperator(\n",
    "    task_id = \"echo_back\"\n",
    "    python_callable = 'echo_back_at_me' \n",
    ")\n",
    "\n",
    "# templated_command = \"\"\"\n",
    "#     {% for i in range(5) %}\n",
    "#         echo \"{{ ds }}\"\n",
    "#         echo \"{{ macros.ds_add(ds, 7)}}\"\n",
    "#         echo \"{{ params.my_param }}\"\n",
    "#     {% endfor %}\n",
    "# \"\"\"\n",
    "\n",
    "# t3 = BashOperator(\n",
    "#     task_id='templated',\n",
    "#     bash_command=templated_command,\n",
    "#     params={'my_param': 'Parameter I passed in'},\n",
    "#     dag=dag)\n",
    "\n",
    "# t1 >> t2\n"
   ]
  }
 ],
 "metadata": {
  "kernelspec": {
   "display_name": "Python 3.9.13 64-bit",
   "language": "python",
   "name": "python3"
  },
  "language_info": {
   "codemirror_mode": {
    "name": "ipython",
    "version": 3
   },
   "file_extension": ".py",
   "mimetype": "text/x-python",
   "name": "python",
   "nbconvert_exporter": "python",
   "pygments_lexer": "ipython3",
   "version": "3.9.13"
  },
  "orig_nbformat": 4,
  "vscode": {
   "interpreter": {
    "hash": "f9f85f796d01129d0dd105a088854619f454435301f6ffec2fea96ecbd9be4ac"
   }
  }
 },
 "nbformat": 4,
 "nbformat_minor": 2
}
